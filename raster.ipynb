{
 "cells": [
  {
   "cell_type": "code",
   "execution_count": 2,
   "metadata": {},
   "outputs": [],
   "source": [
    "import geopandas as gpd\n",
    "import pandas as pd\n",
    "from shapely import wkt\n",
    "from osgeo import gdal, osr, ogr  # necessario intalar a whell manualmente https://www.lfd.uci.edu/~gohlke/pythonlibs/\n",
    "import math\n",
    "import time\n",
    "import pyproj\n",
    "import random\n",
    "#import rasterio\n",
    "#from rasterio import features"
   ]
  },
  {
   "cell_type": "code",
   "execution_count": 3,
   "metadata": {},
   "outputs": [],
   "source": [
    "file = 'gpd.csv'\n",
    "\n",
    "MERCATOR = pyproj.CRS('epsg:3857')\n",
    "WGS84 = pyproj.CRS('epsg:4326')\n",
    "SAD1969  = pyproj.CRS('esri:102033')\n",
    "\n",
    "df = pd.read_csv(file)\n",
    "\n",
    "\n",
    "df['geometry'] = df['geometry'].apply(wkt.loads)\n",
    "gdf = gpd.GeoDataFrame(df, crs='epsg:4326')\n",
    "\n",
    "source = ogr.Open(gdf.to_json())\n",
    "\n",
    "#[['geometry','value']].\n",
    "\n",
    "wkt_geom = [i.wkt for i in gdf.geometry]\n",
    "#gdf.explore()"
   ]
  },
  {
   "cell_type": "code",
   "execution_count": 4,
   "metadata": {},
   "outputs": [
    {
     "data": {
      "text/html": [
       "<div>\n",
       "<style scoped>\n",
       "    .dataframe tbody tr th:only-of-type {\n",
       "        vertical-align: middle;\n",
       "    }\n",
       "\n",
       "    .dataframe tbody tr th {\n",
       "        vertical-align: top;\n",
       "    }\n",
       "\n",
       "    .dataframe thead th {\n",
       "        text-align: right;\n",
       "    }\n",
       "</style>\n",
       "<table border=\"1\" class=\"dataframe\">\n",
       "  <thead>\n",
       "    <tr style=\"text-align: right;\">\n",
       "      <th></th>\n",
       "      <th>Unnamed: 0</th>\n",
       "      <th>geometry</th>\n",
       "      <th>cor</th>\n",
       "      <th>application_rate</th>\n",
       "      <th>value</th>\n",
       "      <th>cultural_practice</th>\n",
       "      <th>bin_element_numbers</th>\n",
       "      <th>start_date</th>\n",
       "      <th>end_date</th>\n",
       "      <th>type</th>\n",
       "    </tr>\n",
       "  </thead>\n",
       "  <tbody>\n",
       "    <tr>\n",
       "      <th>0</th>\n",
       "      <td>0</td>\n",
       "      <td>LINESTRING (-89.77969 40.02795, -89.77969 40.0...</td>\n",
       "      <td>produzindo</td>\n",
       "      <td>NaN</td>\n",
       "      <td>6.661111</td>\n",
       "      <td>0</td>\n",
       "      <td>0</td>\n",
       "      <td>2022-09-28 23:15:07.700</td>\n",
       "      <td>2022-09-28 23:15:43.700</td>\n",
       "      <td>RASTRO</td>\n",
       "    </tr>\n",
       "    <tr>\n",
       "      <th>1</th>\n",
       "      <td>1</td>\n",
       "      <td>LINESTRING (-89.77961 40.02747, -89.77961 40.0...</td>\n",
       "      <td>produzindo</td>\n",
       "      <td>NaN</td>\n",
       "      <td>6.302778</td>\n",
       "      <td>0</td>\n",
       "      <td>0</td>\n",
       "      <td>2022-09-28 23:16:04.700</td>\n",
       "      <td>2022-09-28 23:16:41.700</td>\n",
       "      <td>RASTRO</td>\n",
       "    </tr>\n",
       "    <tr>\n",
       "      <th>2</th>\n",
       "      <td>2</td>\n",
       "      <td>LINESTRING (-89.77963 40.02807, -89.77963 40.0...</td>\n",
       "      <td>produzindo</td>\n",
       "      <td>NaN</td>\n",
       "      <td>7.022764</td>\n",
       "      <td>0</td>\n",
       "      <td>0</td>\n",
       "      <td>2022-09-28 23:16:43.700</td>\n",
       "      <td>2022-09-28 23:18:46.700</td>\n",
       "      <td>RASTRO</td>\n",
       "    </tr>\n",
       "    <tr>\n",
       "      <th>3</th>\n",
       "      <td>3</td>\n",
       "      <td>LINESTRING (-89.77959 40.03013, -89.77959 40.0...</td>\n",
       "      <td>produzindo</td>\n",
       "      <td>NaN</td>\n",
       "      <td>6.549242</td>\n",
       "      <td>0</td>\n",
       "      <td>0</td>\n",
       "      <td>2022-09-28 23:21:15.700</td>\n",
       "      <td>2022-09-28 23:23:27.700</td>\n",
       "      <td>RASTRO</td>\n",
       "    </tr>\n",
       "    <tr>\n",
       "      <th>4</th>\n",
       "      <td>4</td>\n",
       "      <td>LINESTRING (-89.77955 40.02793, -89.77955 40.0...</td>\n",
       "      <td>produzindo</td>\n",
       "      <td>NaN</td>\n",
       "      <td>7.026667</td>\n",
       "      <td>0</td>\n",
       "      <td>0</td>\n",
       "      <td>2022-09-28 23:23:31.700</td>\n",
       "      <td>2022-09-28 23:24:01.700</td>\n",
       "      <td>RASTRO</td>\n",
       "    </tr>\n",
       "    <tr>\n",
       "      <th>...</th>\n",
       "      <td>...</td>\n",
       "      <td>...</td>\n",
       "      <td>...</td>\n",
       "      <td>...</td>\n",
       "      <td>...</td>\n",
       "      <td>...</td>\n",
       "      <td>...</td>\n",
       "      <td>...</td>\n",
       "      <td>...</td>\n",
       "      <td>...</td>\n",
       "    </tr>\n",
       "    <tr>\n",
       "      <th>487</th>\n",
       "      <td>487</td>\n",
       "      <td>POLYGON ((-89.77926 40.02972, -89.77926 40.029...</td>\n",
       "      <td>humidity_rastro</td>\n",
       "      <td>NaN</td>\n",
       "      <td>22.030000</td>\n",
       "      <td>0</td>\n",
       "      <td>0</td>\n",
       "      <td>2022-09-28 23:41:48.000</td>\n",
       "      <td>2022-09-28 23:41:56.000</td>\n",
       "      <td>HUMIDITY</td>\n",
       "    </tr>\n",
       "    <tr>\n",
       "      <th>488</th>\n",
       "      <td>488</td>\n",
       "      <td>POLYGON ((-89.77926 40.02986, -89.77926 40.029...</td>\n",
       "      <td>humidity_rastro</td>\n",
       "      <td>NaN</td>\n",
       "      <td>21.524444</td>\n",
       "      <td>0</td>\n",
       "      <td>0</td>\n",
       "      <td>2022-09-28 23:41:56.000</td>\n",
       "      <td>2022-09-28 23:42:04.000</td>\n",
       "      <td>HUMIDITY</td>\n",
       "    </tr>\n",
       "    <tr>\n",
       "      <th>489</th>\n",
       "      <td>489</td>\n",
       "      <td>POLYGON ((-89.77925 40.03000, -89.77918 40.029...</td>\n",
       "      <td>humidity_rastro</td>\n",
       "      <td>NaN</td>\n",
       "      <td>15.000000</td>\n",
       "      <td>0</td>\n",
       "      <td>0</td>\n",
       "      <td>2022-09-28 23:42:04.000</td>\n",
       "      <td>2022-09-28 23:42:06.000</td>\n",
       "      <td>HUMIDITY</td>\n",
       "    </tr>\n",
       "    <tr>\n",
       "      <th>490</th>\n",
       "      <td>490</td>\n",
       "      <td>POLYGON ((-89.77912 40.02991, -89.77912 40.029...</td>\n",
       "      <td>humidity_rastro</td>\n",
       "      <td>NaN</td>\n",
       "      <td>15.000000</td>\n",
       "      <td>0</td>\n",
       "      <td>0</td>\n",
       "      <td>2022-09-28 23:44:50.000</td>\n",
       "      <td>2022-09-28 23:45:01.000</td>\n",
       "      <td>HUMIDITY</td>\n",
       "    </tr>\n",
       "    <tr>\n",
       "      <th>491</th>\n",
       "      <td>491</td>\n",
       "      <td>POLYGON ((-89.77912 40.02977, -89.77919 40.029...</td>\n",
       "      <td>humidity_rastro</td>\n",
       "      <td>NaN</td>\n",
       "      <td>15.000000</td>\n",
       "      <td>0</td>\n",
       "      <td>0</td>\n",
       "      <td>2022-09-28 23:45:01.000</td>\n",
       "      <td>2022-09-28 23:45:02.000</td>\n",
       "      <td>HUMIDITY</td>\n",
       "    </tr>\n",
       "  </tbody>\n",
       "</table>\n",
       "<p>492 rows × 10 columns</p>\n",
       "</div>"
      ],
      "text/plain": [
       "     Unnamed: 0                                           geometry  \\\n",
       "0             0  LINESTRING (-89.77969 40.02795, -89.77969 40.0...   \n",
       "1             1  LINESTRING (-89.77961 40.02747, -89.77961 40.0...   \n",
       "2             2  LINESTRING (-89.77963 40.02807, -89.77963 40.0...   \n",
       "3             3  LINESTRING (-89.77959 40.03013, -89.77959 40.0...   \n",
       "4             4  LINESTRING (-89.77955 40.02793, -89.77955 40.0...   \n",
       "..          ...                                                ...   \n",
       "487         487  POLYGON ((-89.77926 40.02972, -89.77926 40.029...   \n",
       "488         488  POLYGON ((-89.77926 40.02986, -89.77926 40.029...   \n",
       "489         489  POLYGON ((-89.77925 40.03000, -89.77918 40.029...   \n",
       "490         490  POLYGON ((-89.77912 40.02991, -89.77912 40.029...   \n",
       "491         491  POLYGON ((-89.77912 40.02977, -89.77919 40.029...   \n",
       "\n",
       "                 cor  application_rate      value  cultural_practice  \\\n",
       "0         produzindo               NaN   6.661111                  0   \n",
       "1         produzindo               NaN   6.302778                  0   \n",
       "2         produzindo               NaN   7.022764                  0   \n",
       "3         produzindo               NaN   6.549242                  0   \n",
       "4         produzindo               NaN   7.026667                  0   \n",
       "..               ...               ...        ...                ...   \n",
       "487  humidity_rastro               NaN  22.030000                  0   \n",
       "488  humidity_rastro               NaN  21.524444                  0   \n",
       "489  humidity_rastro               NaN  15.000000                  0   \n",
       "490  humidity_rastro               NaN  15.000000                  0   \n",
       "491  humidity_rastro               NaN  15.000000                  0   \n",
       "\n",
       "     bin_element_numbers               start_date                 end_date  \\\n",
       "0                      0  2022-09-28 23:15:07.700  2022-09-28 23:15:43.700   \n",
       "1                      0  2022-09-28 23:16:04.700  2022-09-28 23:16:41.700   \n",
       "2                      0  2022-09-28 23:16:43.700  2022-09-28 23:18:46.700   \n",
       "3                      0  2022-09-28 23:21:15.700  2022-09-28 23:23:27.700   \n",
       "4                      0  2022-09-28 23:23:31.700  2022-09-28 23:24:01.700   \n",
       "..                   ...                      ...                      ...   \n",
       "487                    0  2022-09-28 23:41:48.000  2022-09-28 23:41:56.000   \n",
       "488                    0  2022-09-28 23:41:56.000  2022-09-28 23:42:04.000   \n",
       "489                    0  2022-09-28 23:42:04.000  2022-09-28 23:42:06.000   \n",
       "490                    0  2022-09-28 23:44:50.000  2022-09-28 23:45:01.000   \n",
       "491                    0  2022-09-28 23:45:01.000  2022-09-28 23:45:02.000   \n",
       "\n",
       "         type  \n",
       "0      RASTRO  \n",
       "1      RASTRO  \n",
       "2      RASTRO  \n",
       "3      RASTRO  \n",
       "4      RASTRO  \n",
       "..        ...  \n",
       "487  HUMIDITY  \n",
       "488  HUMIDITY  \n",
       "489  HUMIDITY  \n",
       "490  HUMIDITY  \n",
       "491  HUMIDITY  \n",
       "\n",
       "[492 rows x 10 columns]"
      ]
     },
     "execution_count": 4,
     "metadata": {},
     "output_type": "execute_result"
    }
   ],
   "source": [
    "gdf"
   ]
  },
  {
   "cell_type": "code",
   "execution_count": 88,
   "metadata": {},
   "outputs": [],
   "source": [
    "source_ds = ogr.GetDriverByName(\"Memory\").CopyDataSource(source, \"\")\n",
    "source_layer = source_ds.GetLayer(0)\n",
    "source_srs = source_layer.GetSpatialRef()\n",
    "x_min, x_max, y_min, y_max = source_layer.GetExtent()\n",
    "numFeatures = source_layer.GetFeatureCount()\n",
    "\n",
    "\n",
    "\n",
    "#random \n",
    "new_field = ogr.FieldDefn('feat1', ogr.OFTReal)\n",
    "source_layer.CreateField(new_field)\n",
    "source_layer_def = source_layer.GetLayerDefn()\n",
    "fd_id = source_layer_def.GetFieldIndex('value')\n",
    "ft_id1 = source_layer_def.GetFieldIndex('feat1')\n",
    "\n",
    "#random \n",
    "new_field = ogr.FieldDefn('feat2', ogr.OFTReal)\n",
    "source_layer.CreateField(new_field)\n",
    "source_layer_def = source_layer.GetLayerDefn()\n",
    "fd_id = source_layer_def.GetFieldIndex('value')\n",
    "ft_id2 = source_layer_def.GetFieldIndex('feat2')\n",
    "\n",
    "\n",
    "ldefn = source_layer.GetLayerDefn()\n",
    "ldefn.GetFieldCount()\n",
    "lsAtribNames = [field.name for field in source_layer.schema]"
   ]
  },
  {
   "cell_type": "code",
   "execution_count": 95,
   "metadata": {},
   "outputs": [
    {
     "data": {
      "text/plain": [
       "['id',\n",
       " 'Unnamed: 0',\n",
       " 'cor',\n",
       " 'application_rate',\n",
       " 'value',\n",
       " 'cultural_practice',\n",
       " 'bin_element_numbers',\n",
       " 'start_date',\n",
       " 'end_date',\n",
       " 'type',\n",
       " 'feat1',\n",
       " 'feat2']"
      ]
     },
     "execution_count": 95,
     "metadata": {},
     "output_type": "execute_result"
    }
   ],
   "source": [
    "lsAtribNames"
   ]
  },
  {
   "cell_type": "code",
   "execution_count": 83,
   "metadata": {},
   "outputs": [],
   "source": [
    "def map_val(x):\n",
    "    return (x - min(gdf.value)) * (0xff - 0) / (max(gdf.value) - min(gdf.value))"
   ]
  },
  {
   "cell_type": "code",
   "execution_count": 90,
   "metadata": {},
   "outputs": [
    {
     "data": {
      "text/plain": [
       "71.36649417136381"
      ]
     },
     "execution_count": 90,
     "metadata": {},
     "output_type": "execute_result"
    }
   ],
   "source": [
    "map_val(gdf.value.loc[0])"
   ]
  },
  {
   "cell_type": "code",
   "execution_count": 92,
   "metadata": {},
   "outputs": [],
   "source": [
    "map_val = lambda x : (x - min(gdf.value)) * (0xff - 0) / (max(gdf.value) - min(gdf.value))"
   ]
  },
  {
   "cell_type": "code",
   "execution_count": 93,
   "metadata": {},
   "outputs": [
    {
     "data": {
      "text/plain": [
       "71.36649417136381"
      ]
     },
     "execution_count": 93,
     "metadata": {},
     "output_type": "execute_result"
    }
   ],
   "source": [
    "map_val(gdf.value.loc[0])"
   ]
  },
  {
   "cell_type": "code",
   "execution_count": 94,
   "metadata": {},
   "outputs": [
    {
     "data": {
      "text/plain": [
       "(6.661111111111111, None)"
      ]
     },
     "execution_count": 94,
     "metadata": {},
     "output_type": "execute_result"
    }
   ],
   "source": [
    "source_layer[0].GetField(fd_id), source_layer[0].GetField(ft_id2)"
   ]
  },
  {
   "cell_type": "code",
   "execution_count": 89,
   "metadata": {},
   "outputs": [
    {
     "data": {
      "text/plain": [
       "71.36649417136381"
      ]
     },
     "execution_count": 89,
     "metadata": {},
     "output_type": "execute_result"
    }
   ],
   "source": [
    "map_val(source_layer[0].GetField(fd_id))"
   ]
  },
  {
   "cell_type": "code",
   "execution_count": 97,
   "metadata": {},
   "outputs": [],
   "source": [
    "for feature in source_layer:\n",
    "    feature.SetField(ft_id1, random.randint(0, 0xFF))\n",
    "    source_layer.SetFeature(feature)"
   ]
  },
  {
   "cell_type": "code",
   "execution_count": 98,
   "metadata": {},
   "outputs": [],
   "source": [
    "for feature in source_layer:\n",
    "    feature.SetField(ft_id2, map_val(feature.GetField(fd_id)))\n",
    "    source_layer.SetFeature(feature)"
   ]
  },
  {
   "cell_type": "code",
   "execution_count": 11,
   "metadata": {},
   "outputs": [],
   "source": [
    "pix_size = 0.000002\n",
    "x_res = int((x_max - x_min) / pix_size)\n",
    "y_res = int((y_max - y_min) / pix_size)"
   ]
  },
  {
   "cell_type": "code",
   "execution_count": 102,
   "metadata": {},
   "outputs": [
    {
     "data": {
      "text/plain": [
       "<osgeo.gdal.Dataset; proxy of <Swig Object of type 'GDALDatasetShadow *' at 0x000001E9251A4420> >"
      ]
     },
     "execution_count": 102,
     "metadata": {},
     "output_type": "execute_result"
    }
   ],
   "source": [
    "target_ds = gdal.GetDriverByName('GTiff').Create('rasterize1.tif', x_res, y_res, 3, gdal.GDT_Byte)\n",
    "target_ds.SetGeoTransform((x_min, pix_size, 0, y_max, 0, -pix_size))\n",
    "\n",
    "proj = 'PROJCS[\"unnamed\",GEOGCS[\"WGS 84\",DATUM[\"WGS_1984\",SPHEROID[\"WGS 84\",6378137,298.257223563,AUTHORITY[\"EPSG\",\"7030\"]],AUTHORITY[\"EPSG\",\"6326\"]],PRIMEM[\"Greenwich\",0],UNIT[\"Degree\",0.0174532925199433]],PROJECTION[\"EPSG:4326\"],UNIT[\"metre\",1,AUTHORITY[\"EPSG\",\"9001\"]],AXIS[\"Easting\",EAST],AXIS[\"Northing\",NORTH],AUTHORITY[\"EPSG\",\"4326\"]]'\n",
    "\n",
    "if source_srs:\n",
    "    target_ds.SetProjection(source_srs.ExportToWkt())\n",
    "else:\n",
    "    target_ds.SetProjection(proj)\n",
    "\n",
    "err = gdal.RasterizeLayer(target_ds, (3, 2, 1), source_layer,\n",
    "    burn_values=(0xff, 0xff, 0xff),\n",
    "    options=[\"ATTRIBUTE=%s\" % 'feat1'])\n",
    "\n",
    "\n",
    "pngdriver = gdal.GetDriverByName('PNG')\n",
    "pngdriver.CreateCopy('rasterize1.png', target_ds)"
   ]
  },
  {
   "cell_type": "code",
   "execution_count": 101,
   "metadata": {},
   "outputs": [
    {
     "data": {
      "text/plain": [
       "<osgeo.gdal.Dataset; proxy of <Swig Object of type 'GDALDatasetShadow *' at 0x000001E923AE7930> >"
      ]
     },
     "execution_count": 101,
     "metadata": {},
     "output_type": "execute_result"
    }
   ],
   "source": [
    "target_ds = gdal.GetDriverByName('GTiff').Create('rasterize2.tif', x_res, y_res, 3, gdal.GDT_Byte)\n",
    "target_ds.SetGeoTransform((x_min, pix_size, 0, y_max, 0, -pix_size))\n",
    "\n",
    "proj = 'PROJCS[\"unnamed\",GEOGCS[\"WGS 84\",DATUM[\"WGS_1984\",SPHEROID[\"WGS 84\",6378137,298.257223563,AUTHORITY[\"EPSG\",\"7030\"]],AUTHORITY[\"EPSG\",\"6326\"]],PRIMEM[\"Greenwich\",0],UNIT[\"Degree\",0.0174532925199433]],PROJECTION[\"EPSG:4326\"],UNIT[\"metre\",1,AUTHORITY[\"EPSG\",\"9001\"]],AXIS[\"Easting\",EAST],AXIS[\"Northing\",NORTH],AUTHORITY[\"EPSG\",\"4326\"]]'\n",
    "\n",
    "if source_srs:\n",
    "    target_ds.SetProjection(source_srs.ExportToWkt())\n",
    "else:\n",
    "    target_ds.SetProjection(proj)\n",
    "\n",
    "err = gdal.RasterizeLayer(target_ds, (3, 2, 1), source_layer,\n",
    "    burn_values=(0xff, 0xff, 0xff),\n",
    "    options=[\"ATTRIBUTE=%s\" % 'feat2'])\n",
    "\n",
    "\n",
    "pngdriver = gdal.GetDriverByName('PNG')\n",
    "pngdriver.CreateCopy('rasterize2.png', target_ds)"
   ]
  },
  {
   "cell_type": "code",
   "execution_count": 76,
   "metadata": {},
   "outputs": [
    {
     "data": {
      "text/plain": [
       "<osgeo.gdal.Dataset; proxy of <Swig Object of type 'GDALDatasetShadow *' at 0x000001E923DCFD80> >"
      ]
     },
     "execution_count": 76,
     "metadata": {},
     "output_type": "execute_result"
    }
   ],
   "source": [
    "x_size = gdf.total_bounds[2]-gdf.total_bounds[0]\n",
    "y_size = gdf.total_bounds[3]-gdf.total_bounds[1]\n",
    "x_0 = gdf.total_bounds[0]\n",
    "y_0 = gdf.total_bounds[3]\n",
    "\n",
    " \n",
    "\n",
    "pix_size = 0.000002\n",
    "pixels_in_x = math.ceil(x_size/pix_size)\n",
    "pixels_in_y = math.ceil(y_size/pix_size)\n",
    "\n",
    " \n",
    "sr_wkt = 'PROJCS[\"unnamed\",GEOGCS[\"WGS 84\",DATUM[\"WGS_1984\",SPHEROID[\"WGS 84\",6378137,298.257223563,AUTHORITY[\"EPSG\",\"7030\"]],AUTHORITY[\"EPSG\",\"6326\"]],PRIMEM[\"Greenwich\",0],UNIT[\"Degree\",0.0174532925199433]],PROJECTION[\"EPSG:4326\"],UNIT[\"metre\",1,AUTHORITY[\"EPSG\",\"9001\"]],AXIS[\"Easting\",EAST],AXIS[\"Northing\",NORTH],AUTHORITY[\"EPSG\",\"4326\"]]'\n",
    "sr = osr.SpatialReference( sr_wkt )\n",
    "\n",
    "\n",
    "# Create a memory raster to rasterize into.\n",
    "\n",
    " \n",
    "\n",
    "target_ds = gdal.GetDriverByName('MEM').Create('', pixels_in_x, pixels_in_y, 4, gdal.GDT_Byte)\n",
    "target_ds.SetGeoTransform((x_0, pix_size, 0, y_0, 0, -pix_size))\n",
    "\n",
    " \n",
    "\n",
    "# Create a memory layer to rasterize from.\n",
    "\n",
    " \n",
    "rast_ogr_ds  = ogr.GetDriverByName('Memory').CreateDataSource('wrk')\n",
    "rast_mem_lyr = rast_ogr_ds.CreateLayer('poly', srs=sr)\n",
    "\n",
    "\n",
    "for g in gdf[gdf['cor'] == 'produzindo_rastro'].geometry:\n",
    "    feat = ogr.Feature(rast_mem_lyr.GetLayerDefn())\n",
    "    feat.SetGeometryDirectly(ogr.Geometry(wkt = g.wkt))\n",
    "    rast_mem_lyr.CreateFeature(feat)\n",
    "\n",
    "gdal.RasterizeLayer(target_ds, [4,3,2,1], rast_mem_lyr, burn_values=(0, 0xff, 0xff, 0 ))\n",
    "\n",
    "\"\"\" , options = [\"BURN_VALUE_FROM=\"]   ,  ,options=['ATTRIBUTE=values']  burn_values=(0xFFFF, 0xFFFF, 0xFFFF, 0 )\"\"\"\n",
    "\n",
    "proj = 'PROJCS[\"unnamed\",GEOGCS[\"WGS 84\",DATUM[\"WGS_1984\",SPHEROID[\"WGS 84\",6378137,298.257223563,AUTHORITY[\"EPSG\",\"7030\"]],AUTHORITY[\"EPSG\",\"6326\"]],PRIMEM[\"Greenwich\",0],UNIT[\"Degree\",0.0174532925199433]],PROJECTION[\"EPSG:4326\"],UNIT[\"metre\",1,AUTHORITY[\"EPSG\",\"9001\"]],AXIS[\"Easting\",EAST],AXIS[\"Northing\",NORTH],AUTHORITY[\"EPSG\",\"4326\"]]'\n",
    "target_ds.SetProjection(proj)\n",
    "\n",
    " \n",
    "\n",
    "tiffdriver = gdal.GetDriverByName('GTiff')\n",
    "tiffdriver.CreateCopy('rasterize.tif', target_ds)\n",
    "\n",
    " \n",
    "\n",
    "pngdriver = gdal.GetDriverByName('PNG')\n",
    "pngdriver.CreateCopy('rasterize.png', target_ds)"
   ]
  }
 ],
 "metadata": {
  "kernelspec": {
   "display_name": "Python 3",
   "language": "python",
   "name": "python3"
  },
  "language_info": {
   "codemirror_mode": {
    "name": "ipython",
    "version": 3
   },
   "file_extension": ".py",
   "mimetype": "text/x-python",
   "name": "python",
   "nbconvert_exporter": "python",
   "pygments_lexer": "ipython3",
   "version": "3.11.0"
  },
  "orig_nbformat": 4,
  "vscode": {
   "interpreter": {
    "hash": "36e62440cb93b81495312204c784b5b5d15c6b50967c5be1aae88bbecbff278a"
   }
  }
 },
 "nbformat": 4,
 "nbformat_minor": 2
}
