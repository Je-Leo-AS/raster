{
 "cells": [
  {
   "cell_type": "code",
   "execution_count": 1,
   "metadata": {},
   "outputs": [],
   "source": [
    "import geopandas as gpd\n",
    "import pandas as pd\n",
    "from shapely import wkt\n",
    "from osgeo import gdal, osr, ogr  # necessario intalar a whell manualmente https://www.lfd.uci.edu/~gohlke/pythonlibs/\n",
    "import math\n",
    "import time\n",
    "import pyproj\n",
    "#import rasterio\n",
    "#from rasterio import features"
   ]
  },
  {
   "cell_type": "code",
   "execution_count": 2,
   "metadata": {},
   "outputs": [],
   "source": [
    "file = 'gpd.csv'\n",
    "\n",
    "MERCATOR = pyproj.CRS('epsg:3857')\n",
    "WGS84 = pyproj.CRS('epsg:4326')\n",
    "SAD1969  = pyproj.CRS('esri:102033')\n",
    "\n",
    "df = pd.read_csv(file)\n",
    "\n",
    " \n",
    "\n",
    "df['geometry'] = df['geometry'].apply(wkt.loads)\n",
    "gdf = gpd.GeoDataFrame(df, crs='epsg:4326')\n",
    "\n",
    "wkt_geom = [i.wkt for i in gdf.geometry]\n",
    "#gdf.explore()"
   ]
  },
  {
   "cell_type": "code",
   "execution_count": 3,
   "metadata": {},
   "outputs": [
    {
     "data": {
      "text/plain": [
       "<osgeo.gdal.Dataset; proxy of <Swig Object of type 'GDALDatasetShadow *' at 0x000001F2081C2880> >"
      ]
     },
     "execution_count": 3,
     "metadata": {},
     "output_type": "execute_result"
    }
   ],
   "source": [
    "x_size = gdf.total_bounds[2]-gdf.total_bounds[0]\n",
    "y_size = gdf.total_bounds[3]-gdf.total_bounds[1]\n",
    "x_0 = gdf.total_bounds[0]\n",
    "y_0 = gdf.total_bounds[3]\n",
    "\n",
    " \n",
    "\n",
    "pix_size = 0.000002\n",
    "pixels_in_x = math.ceil(x_size/pix_size)\n",
    "pixels_in_y = math.ceil(y_size/pix_size)\n",
    "\n",
    " \n",
    "sr_wkt = 'PROJCS[\"unnamed\",GEOGCS[\"WGS 84\",DATUM[\"WGS_1984\",SPHEROID[\"WGS 84\",6378137,298.257223563,AUTHORITY[\"EPSG\",\"7030\"]],AUTHORITY[\"EPSG\",\"6326\"]],PRIMEM[\"Greenwich\",0],UNIT[\"Degree\",0.0174532925199433]],PROJECTION[\"EPSG:4326\"],UNIT[\"metre\",1,AUTHORITY[\"EPSG\",\"9001\"]],AXIS[\"Easting\",EAST],AXIS[\"Northing\",NORTH],AUTHORITY[\"EPSG\",\"4326\"]]'\n",
    "sr = osr.SpatialReference( sr_wkt )\n",
    "\n",
    "\n",
    "# Create a memory raster to rasterize into.\n",
    "\n",
    " \n",
    "\n",
    "target_ds = gdal.GetDriverByName('MEM').Create('', pixels_in_x, pixels_in_y, 3, gdal.GDT_Byte)\n",
    "target_ds.SetGeoTransform((x_0, pix_size, 0, y_0, 0, -pix_size))\n",
    "\n",
    " \n",
    "\n",
    "# Create a memory layer to rasterize from.\n",
    "\n",
    " \n",
    "rast_ogr_ds  = ogr.GetDriverByName('Memory').CreateDataSource('wrk')\n",
    "rast_mem_lyr = rast_ogr_ds.CreateLayer('poly', srs=sr)\n",
    "\n",
    " \n",
    "\n",
    "# Add polygons and linestrings.\n",
    "wkt_geom = [i.wkt for i in gdf[gdf['cor'] == 'produzindo_rastro'].geometry]\n",
    "#wkt_geom = ['POLYGON((0 0 0,0 10 0,10 10 0,10 0 0,0 0 0))']\n",
    "\n",
    " \n",
    "\n",
    "for g in wkt_geom:\n",
    "    feat = ogr.Feature(rast_mem_lyr.GetLayerDefn())\n",
    "    feat.SetGeometryDirectly(ogr.Geometry(wkt = g))\n",
    "    rast_mem_lyr.CreateFeature(feat)\n",
    "\n",
    " \n",
    "data = gdf.value.tolist()\n",
    "\n",
    "gdal.RasterizeLayer(target_ds, [1,2,3], rast_mem_lyr)\n",
    "#gdal.GetDriverByName('PNG').CreateCopy('rasterize.png',target_ds)\n",
    "\n",
    " \n",
    "\n",
    "proj = 'PROJCS[\"unnamed\",GEOGCS[\"WGS 84\",DATUM[\"WGS_1984\",SPHEROID[\"WGS 84\",6378137,298.257223563,AUTHORITY[\"EPSG\",\"7030\"]],AUTHORITY[\"EPSG\",\"6326\"]],PRIMEM[\"Greenwich\",0],UNIT[\"Degree\",0.0174532925199433]],PROJECTION[\"EPSG:4326\"],UNIT[\"metre\",1,AUTHORITY[\"EPSG\",\"9001\"]],AXIS[\"Easting\",EAST],AXIS[\"Northing\",NORTH],AUTHORITY[\"EPSG\",\"4326\"]]'\n",
    "target_ds.SetProjection(proj)\n",
    "\n",
    " \n",
    "\n",
    "tiffdriver = gdal.GetDriverByName('GTiff')\n",
    "tiffdriver.CreateCopy('rasterize.tif', target_ds)\n",
    "\n",
    " \n",
    "\n",
    "pngdriver = gdal.GetDriverByName('PNG')\n",
    "pngdriver.CreateCopy('rasterize.png', target_ds)"
   ]
  },
  {
   "cell_type": "code",
   "execution_count": 10,
   "metadata": {},
   "outputs": [],
   "source": [
    "test = gdal.Open('rasterize.tif')\n",
    "test1 = gdal.Open('sp27.tif')"
   ]
  },
  {
   "cell_type": "code",
   "execution_count": 11,
   "metadata": {},
   "outputs": [
    {
     "data": {
      "text/plain": [
       "'GEOGCS[\"WGS 84\",DATUM[\"WGS_1984\",SPHEROID[\"WGS 84\",6378137,298.257223563,AUTHORITY[\"EPSG\",\"7030\"]],AUTHORITY[\"EPSG\",\"6326\"]],PRIMEM[\"Greenwich\",0,AUTHORITY[\"EPSG\",\"8901\"]],UNIT[\"degree\",0.0174532925199433,AUTHORITY[\"EPSG\",\"9122\"]],AXIS[\"Latitude\",NORTH],AXIS[\"Longitude\",EAST],AUTHORITY[\"EPSG\",\"4326\"]]'"
      ]
     },
     "execution_count": 11,
     "metadata": {},
     "output_type": "execute_result"
    }
   ],
   "source": [
    "test.GetProjection()"
   ]
  },
  {
   "cell_type": "code",
   "execution_count": 12,
   "metadata": {},
   "outputs": [
    {
     "data": {
      "text/plain": [
       "'PROJCS[\"NAD27 / California zone VI\",GEOGCS[\"NAD27\",DATUM[\"North_American_Datum_1927\",SPHEROID[\"Clarke 1866\",6378206.4,294.978698213898,AUTHORITY[\"EPSG\",\"7008\"]],AUTHORITY[\"EPSG\",\"6267\"]],PRIMEM[\"Greenwich\",0,AUTHORITY[\"EPSG\",\"8901\"]],UNIT[\"degree\",0.0174532925199433,AUTHORITY[\"EPSG\",\"9122\"]],AUTHORITY[\"EPSG\",\"4267\"]],PROJECTION[\"Lambert_Conformal_Conic_2SP\"],PARAMETER[\"latitude_of_origin\",32.1666666666667],PARAMETER[\"central_meridian\",-116.25],PARAMETER[\"standard_parallel_1\",33.8833333333333],PARAMETER[\"standard_parallel_2\",32.7833333333333],PARAMETER[\"false_easting\",2000000],PARAMETER[\"false_northing\",0],UNIT[\"US survey foot\",0.304800609601219,AUTHORITY[\"EPSG\",\"9003\"]],AXIS[\"Easting\",EAST],AXIS[\"Northing\",NORTH],AUTHORITY[\"EPSG\",\"26746\"]]'"
      ]
     },
     "execution_count": 12,
     "metadata": {},
     "output_type": "execute_result"
    }
   ],
   "source": [
    "test1.GetProjection()"
   ]
  },
  {
   "cell_type": "code",
   "execution_count": 9,
   "metadata": {},
   "outputs": [
    {
     "name": "stdout",
     "output_type": "stream",
     "text": [
      "Windows\n",
      "AMD64\n",
      "Windows-10-10.0.19045-SP0\n",
      "uname_result(system='Windows', node='C118', release='10', version='10.0.19045', machine='AMD64')\n",
      "10.0.19045\n",
      "('', ('', '', ''), '')\n"
     ]
    }
   ],
   "source": [
    "import platform\n",
    "print(platform.system(),)\n",
    "print(platform.machine(),)\n",
    "print(platform.platform(),)\n",
    "print(platform.uname(),)\n",
    "print(platform.version(),)\n",
    "print(platform.mac_ver(),)"
   ]
  }
 ],
 "metadata": {
  "kernelspec": {
   "display_name": "Python 3",
   "language": "python",
   "name": "python3"
  },
  "language_info": {
   "codemirror_mode": {
    "name": "ipython",
    "version": 3
   },
   "file_extension": ".py",
   "mimetype": "text/x-python",
   "name": "python",
   "nbconvert_exporter": "python",
   "pygments_lexer": "ipython3",
   "version": "3.11.0"
  },
  "orig_nbformat": 4,
  "vscode": {
   "interpreter": {
    "hash": "36e62440cb93b81495312204c784b5b5d15c6b50967c5be1aae88bbecbff278a"
   }
  }
 },
 "nbformat": 4,
 "nbformat_minor": 2
}
