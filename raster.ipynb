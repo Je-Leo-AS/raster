{
 "cells": [
  {
   "cell_type": "code",
   "execution_count": 1,
   "metadata": {},
   "outputs": [],
   "source": [
    "import geopandas as gpd\n",
    "import pandas as pd\n",
    "from shapely import wkt\n",
    "from osgeo import gdal, osr, ogr  # necessario intalar a whell manualmente https://www.lfd.uci.edu/~gohlke/pythonlibs/\n",
    "import math\n",
    "import time\n",
    "import pyproj\n",
    "#import rasterio\n",
    "#from rasterio import features"
   ]
  },
  {
   "cell_type": "code",
   "execution_count": 20,
   "metadata": {},
   "outputs": [],
   "source": [
    "file = 'gpd.csv'\n",
    "\n",
    "MERCATOR = pyproj.CRS('epsg:3857')\n",
    "WGS84 = pyproj.CRS('epsg:4326')\n",
    "SAD1969  = pyproj.CRS('esri:102033')\n",
    "\n",
    "df = pd.read_csv(file)\n",
    "\n",
    "\n",
    "df['geometry'] = df['geometry'].apply(wkt.loads)\n",
    "gdf = gpd.GeoDataFrame(df, crs='epsg:4326')\n",
    "\n",
    "arq = gdal.Open('img.shp')\n",
    "\n",
    "\n",
    "wkt_geom = [i.wkt for i in gdf.geometry]\n",
    "#gdf.explore()"
   ]
  },
  {
   "cell_type": "code",
   "execution_count": null,
   "metadata": {},
   "outputs": [],
   "source": [
    "dfn = pd.DataFrame(data = [gdf.geometry.x]"
   ]
  },
  {
   "cell_type": "code",
   "execution_count": 27,
   "metadata": {},
   "outputs": [],
   "source": [
    "ds = gdal.Open('rasterize.tif')"
   ]
  },
  {
   "cell_type": "code",
   "execution_count": 35,
   "metadata": {},
   "outputs": [
    {
     "data": {
      "text/plain": [
       "array([[0, 0, 0, ..., 0, 0, 0],\n",
       "       [0, 0, 0, ..., 0, 0, 0],\n",
       "       [0, 0, 0, ..., 0, 0, 0],\n",
       "       ...,\n",
       "       [0, 0, 0, ..., 0, 0, 0],\n",
       "       [0, 0, 0, ..., 0, 0, 0],\n",
       "       [0, 0, 0, ..., 0, 0, 0]], dtype=uint8)"
      ]
     },
     "execution_count": 35,
     "metadata": {},
     "output_type": "execute_result"
    }
   ],
   "source": [
    "ds.GetRasterBand(1).ReadAsArray()"
   ]
  },
  {
   "cell_type": "code",
   "execution_count": 49,
   "metadata": {},
   "outputs": [
    {
     "data": {
      "text/plain": [
       "<osgeo.gdal.Dataset; proxy of <Swig Object of type 'GDALDatasetShadow *' at 0x0000023C1C86C990> >"
      ]
     },
     "execution_count": 49,
     "metadata": {},
     "output_type": "execute_result"
    }
   ],
   "source": [
    "x_size = gdf.total_bounds[2]-gdf.total_bounds[0]\n",
    "y_size = gdf.total_bounds[3]-gdf.total_bounds[1]\n",
    "x_0 = gdf.total_bounds[0]\n",
    "y_0 = gdf.total_bounds[3]\n",
    "\n",
    " \n",
    "\n",
    "pix_size = 0.000002\n",
    "pixels_in_x = math.ceil(x_size/pix_size)\n",
    "pixels_in_y = math.ceil(y_size/pix_size)\n",
    "\n",
    " \n",
    "sr_wkt = 'PROJCS[\"unnamed\",GEOGCS[\"WGS 84\",DATUM[\"WGS_1984\",SPHEROID[\"WGS 84\",6378137,298.257223563,AUTHORITY[\"EPSG\",\"7030\"]],AUTHORITY[\"EPSG\",\"6326\"]],PRIMEM[\"Greenwich\",0],UNIT[\"Degree\",0.0174532925199433]],PROJECTION[\"EPSG:4326\"],UNIT[\"metre\",1,AUTHORITY[\"EPSG\",\"9001\"]],AXIS[\"Easting\",EAST],AXIS[\"Northing\",NORTH],AUTHORITY[\"EPSG\",\"4326\"]]'\n",
    "sr = osr.SpatialReference( sr_wkt )\n",
    "\n",
    "\n",
    "# Create a memory raster to rasterize into.\n",
    "\n",
    " \n",
    "\n",
    "target_ds = gdal.GetDriverByName('MEM').Create('', pixels_in_x, pixels_in_y, 4, gdal.GDT_Byte)\n",
    "target_ds.SetGeoTransform((x_0, pix_size, 0, y_0, 0, -pix_size))\n",
    "\n",
    " \n",
    "\n",
    "# Create a memory layer to rasterize from.\n",
    "\n",
    " \n",
    "rast_ogr_ds  = ogr.GetDriverByName('Memory').CreateDataSource('wrk')\n",
    "rast_mem_lyr = rast_ogr_ds.CreateLayer('poly', srs=sr)\n",
    "\n",
    "\n",
    "for g in gdf[gdf['cor'] == 'produzindo_rastro'].geometry:\n",
    "    feat = ogr.Feature(rast_mem_lyr.GetLayerDefn())\n",
    "    feat.SetGeometryDirectly(ogr.Geometry(wkt = g.wkt))\n",
    "    rast_mem_lyr.CreateFeature(feat)\n",
    "\n",
    "gdal.RasterizeLayer(target_ds, [1,2,3,4], rast_mem_lyr)\n",
    "\n",
    "\"\"\" , options = [\"BURN_VALUE_FROM=\"]   ,  ,options=['ATTRIBUTE=values'] \"\"\"\n",
    "\n",
    "proj = 'PROJCS[\"unnamed\",GEOGCS[\"WGS 84\",DATUM[\"WGS_1984\",SPHEROID[\"WGS 84\",6378137,298.257223563,AUTHORITY[\"EPSG\",\"7030\"]],AUTHORITY[\"EPSG\",\"6326\"]],PRIMEM[\"Greenwich\",0],UNIT[\"Degree\",0.0174532925199433]],PROJECTION[\"EPSG:4326\"],UNIT[\"metre\",1,AUTHORITY[\"EPSG\",\"9001\"]],AXIS[\"Easting\",EAST],AXIS[\"Northing\",NORTH],AUTHORITY[\"EPSG\",\"4326\"]]'\n",
    "target_ds.SetProjection(proj)\n",
    "\n",
    " \n",
    "\n",
    "tiffdriver = gdal.GetDriverByName('GTiff')\n",
    "tiffdriver.CreateCopy('rasterize.tif', target_ds)\n",
    "\n",
    " \n",
    "\n",
    "pngdriver = gdal.GetDriverByName('PNG')\n",
    "pngdriver.CreateCopy('rasterize.png', target_ds)"
   ]
  }
 ],
 "metadata": {
  "kernelspec": {
   "display_name": "Python 3",
   "language": "python",
   "name": "python3"
  },
  "language_info": {
   "codemirror_mode": {
    "name": "ipython",
    "version": 3
   },
   "file_extension": ".py",
   "mimetype": "text/x-python",
   "name": "python",
   "nbconvert_exporter": "python",
   "pygments_lexer": "ipython3",
   "version": "3.11.0"
  },
  "orig_nbformat": 4,
  "vscode": {
   "interpreter": {
    "hash": "36e62440cb93b81495312204c784b5b5d15c6b50967c5be1aae88bbecbff278a"
   }
  }
 },
 "nbformat": 4,
 "nbformat_minor": 2
}
