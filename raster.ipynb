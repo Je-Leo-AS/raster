{
 "cells": [
  {
   "cell_type": "code",
   "execution_count": 1,
   "metadata": {},
   "outputs": [],
   "source": [
    "import geopandas as gpd\n",
    "import pandas as pd\n",
    "from shapely import wkt\n",
    "from osgeo import gdal, osr, ogr  # necessario intalar a whell manualmente https://www.lfd.uci.edu/~gohlke/pythonlibs/\n",
    "import math\n",
    "import time\n",
    "import pyproj\n",
    "import random\n",
    "from shapely.geometry import LineString, CAP_STYLE\n",
    "import cores as cr\n",
    "#import rasterio\n",
    "#from rasterio import features"
   ]
  },
  {
   "cell_type": "code",
   "execution_count": 2,
   "metadata": {},
   "outputs": [],
   "source": [
    "Rastro = [0xff, 0xff, 0x00]\n",
    "Produzindo =[0xff,0xff,0x00]\n",
    "Ocioso = [0xd6,0x27,0x28]\n",
    "Manobrando = [0xff,0x7e,0x0e]\n",
    "Deslocando= [0x1f,0x76,0xb4]\n",
    "App_H3 = [0x00, 0x8a,0x33]\n",
    "App_H2 = [0x82,0xcc,0x00]\n",
    "App_H1 = [0xcc,0xe2,0x00] \n",
    "App_0  = [0xff,0xee,0x00]\n",
    "App_L1 = [0xff,0xaf,0x00]\n",
    "App_L2 = [0xff,0x78,0x00]\n",
    "App_L3 = [0xcc,0x00,0x00]"
   ]
  },
  {
   "cell_type": "code",
   "execution_count": 3,
   "metadata": {},
   "outputs": [
    {
     "name": "stdout",
     "output_type": "stream",
     "text": [
      "Tiles - processar polígonos de velocidade\n"
     ]
    }
   ],
   "source": [
    "file = 'gpd.csv'\n",
    "\n",
    "MERCATOR = pyproj.CRS('epsg:3857')\n",
    "WGS84 = pyproj.CRS('epsg:4326')\n",
    "SAD1969  = pyproj.CRS('esri:102033')\n",
    "\n",
    "df = pd.read_csv(file)\n",
    "\n",
    "df = df.loc[(df.cor != 'humidity_rastro') & (df.cor != 'produzindo_rastro')]\n",
    "df = df.drop(['Unnamed: 0'], axis = 1)\n",
    "df.cor = df.cor.str.capitalize()\n",
    "\n",
    "\"\"\"  \"\"\"\n",
    "\n",
    "df['geometry'] = df['geometry'].apply(wkt.loads)\n",
    "gdf = gpd.GeoDataFrame(df, crs=WGS84)\n",
    "\n",
    "application_color_list = ['App_L3', 'App_L2', 'App_L1', 'App_0', 'App_H1', 'App_H2', 'App_H3']\n",
    "camada_objeto = 'App_rastro'\n",
    "if len(gdf[gdf['cor'] == camada_objeto]['value'].dropna().unique()) > 1:\n",
    "    print(\"Tiles - processar polígonos de velocidade\")\n",
    "    inicial = gdf[gdf['cor'] == camada_objeto]['value'].dropna().quantile(0.1)\n",
    "    final = gdf[gdf['cor'] == camada_objeto]['value'].dropna().quantile(0.9)\n",
    "    topo = gdf[gdf['cor'] == camada_objeto]['value'].dropna().quantile(1)\n",
    "    n_intervalos = 7\n",
    "    passo = (final - inicial) / (n_intervalos - 2)\n",
    "    atual = inicial\n",
    "    intervalos = []\n",
    "    intervalos.append([0, inicial])\n",
    "    for i in list(range(2, n_intervalos)):\n",
    "        intervalos.append([atual, atual + passo])\n",
    "        atual = atual + passo\n",
    "    intervalos.append([final, topo + 1])\n",
    "    pos_int = 0\n",
    "    for intervalo in intervalos:\n",
    "        gdf.loc[(gdf['cor'] == camada_objeto) & (gdf['value'] >= intervalo[0]) & (gdf['value'] < intervalo[1]), 'cor'] = application_color_list[pos_int]\n",
    "        pos_int = pos_int + 1\n",
    "gdf = gdf.reset_index(drop=True)\n",
    "\n",
    "\n",
    "gdf = gdf.to_crs(MERCATOR)\n",
    "mask =[]\n",
    "for i in gdf.geometry: \n",
    "    mask.append(type(i)==type(gdf.geometry.loc[0]))\n",
    "gdf.geometry.loc[mask] = gdf.geometry.loc[mask].buffer(1,  cap_style=CAP_STYLE.square)\n",
    "\n",
    "gdf = gdf.to_crs(WGS84)   \n",
    "\n",
    "source = ogr.Open(gdf.to_json())\n",
    "\n",
    "#gdf\n"
   ]
  },
  {
   "cell_type": "code",
   "execution_count": 4,
   "metadata": {},
   "outputs": [],
   "source": [
    "source_ds = ogr.GetDriverByName(\"Memory\").CopyDataSource(source, \"\")\n",
    "source_layer = source_ds.GetLayer(0)\n",
    "source_srs = source_layer.GetSpatialRef()\n",
    "x_min, x_max, y_min, y_max = source_layer.GetExtent()\n",
    "numFeatures = source_layer.GetFeatureCount()\n",
    "\n",
    "\n",
    "\n",
    "source_layer.CreateField(ogr.FieldDefn('Red', ogr.OFTReal))\n",
    "source_layer.CreateField(ogr.FieldDefn('Green', ogr.OFTReal))\n",
    "source_layer.CreateField(ogr.FieldDefn('Blue', ogr.OFTReal))\n",
    "\n",
    "\n",
    "source_layer_def = source_layer.GetLayerDefn()\n",
    "fd_id = source_layer_def.GetFieldIndex('cor')\n",
    "r_id = source_layer_def.GetFieldIndex('Red')\n",
    "g_id = source_layer_def.GetFieldIndex('Green')\n",
    "b_id = source_layer_def.GetFieldIndex('Blue')\n",
    "\n",
    "\n",
    "ldefn = source_layer.GetLayerDefn()\n",
    "ldefn.GetFieldCount()\n",
    "lsAtribNames = [field.name for field in source_layer.schema]"
   ]
  },
  {
   "cell_type": "code",
   "execution_count": 5,
   "metadata": {},
   "outputs": [],
   "source": [
    "for feature in source_layer:\n",
    "    feature.SetField(r_id,globals()[feature.GetField(fd_id)][0])\n",
    "    source_layer.SetFeature(feature)\n",
    "for feature in source_layer:\n",
    "    feature.SetField(g_id,globals()[feature.GetField(fd_id)][1])\n",
    "    source_layer.SetFeature(feature)\n",
    "for feature in source_layer:\n",
    "    feature.SetField(b_id,globals()[feature.GetField(fd_id)][2])\n",
    "    source_layer.SetFeature(feature)"
   ]
  },
  {
   "cell_type": "code",
   "execution_count": 6,
   "metadata": {},
   "outputs": [
    {
     "data": {
      "text/plain": [
       "(331, 1536)"
      ]
     },
     "execution_count": 6,
     "metadata": {},
     "output_type": "execute_result"
    }
   ],
   "source": [
    "pix_size = 0.000002\n",
    "x_res = int((x_max - x_min) / pix_size)\n",
    "y_res = int((y_max - y_min) / pix_size)\n",
    "x_res, y_res"
   ]
  },
  {
   "cell_type": "code",
   "execution_count": 7,
   "metadata": {},
   "outputs": [
    {
     "data": {
      "text/plain": [
       "<osgeo.gdal.Dataset; proxy of <Swig Object of type 'GDALDatasetShadow *' at 0x000001702F5EF720> >"
      ]
     },
     "execution_count": 7,
     "metadata": {},
     "output_type": "execute_result"
    }
   ],
   "source": [
    "target_ds = gdal.GetDriverByName('GTiff').Create('rasterize.tif', x_res, y_res, 4, gdal.GDT_Byte)\n",
    "target_ds.SetGeoTransform((x_min, pix_size, 0, y_max, 0, -pix_size))\n",
    "\n",
    "proj = 'PROJCS[\"unnamed\",GEOGCS[\"WGS 84\",DATUM[\"WGS_1984\",SPHEROID[\"WGS 84\",6378137,298.257223563,AUTHORITY[\"EPSG\",\"7030\"]],AUTHORITY[\"EPSG\",\"6326\"]],PRIMEM[\"Greenwich\",0],UNIT[\"Degree\",0.0174532925199433]],PROJECTION[\"EPSG:4326\"],UNIT[\"metre\",1,AUTHORITY[\"EPSG\",\"9001\"]],AXIS[\"Easting\",EAST],AXIS[\"Northing\",NORTH],AUTHORITY[\"EPSG\",\"4326\"]]'\n",
    "\n",
    "if source_srs:\n",
    "    target_ds.SetProjection(source_srs.ExportToWkt())\n",
    "else:\n",
    "    target_ds.SetProjection(proj)\n",
    "\n",
    "#err = gdal.RasterizeLayer(target_ds, [1,2,3], source_layer, burn_values=(0xff, 0xff, 0xff))\n",
    "\n",
    "err = gdal.RasterizeLayer(target_ds, [1], source_layer, options=[\"ATTRIBUTE=%s\" % 'Red'])\n",
    "err = gdal.RasterizeLayer(target_ds, [2], source_layer, options=[\"ATTRIBUTE=%s\" % 'Green'])\n",
    "err = gdal.RasterizeLayer(target_ds, [3], source_layer, options=[\"ATTRIBUTE=%s\" % 'Blue'])\n",
    "err = gdal.RasterizeLayer(target_ds, [4], source_layer, burn_values=[0xff])\n",
    "\n",
    "\n",
    "\n",
    "pngdriver = gdal.GetDriverByName('PNG')\n",
    "pngdriver.CreateCopy('rasterize.png', target_ds)\n"
   ]
  }
 ],
 "metadata": {
  "kernelspec": {
   "display_name": "Python 3",
   "language": "python",
   "name": "python3"
  },
  "language_info": {
   "codemirror_mode": {
    "name": "ipython",
    "version": 3
   },
   "file_extension": ".py",
   "mimetype": "text/x-python",
   "name": "python",
   "nbconvert_exporter": "python",
   "pygments_lexer": "ipython3",
   "version": "3.11.0"
  },
  "orig_nbformat": 4,
  "vscode": {
   "interpreter": {
    "hash": "36e62440cb93b81495312204c784b5b5d15c6b50967c5be1aae88bbecbff278a"
   }
  }
 },
 "nbformat": 4,
 "nbformat_minor": 2
}
