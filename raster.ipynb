{
 "cells": [
  {
   "cell_type": "code",
   "execution_count": 1,
   "metadata": {},
   "outputs": [
    {
     "name": "stdout",
     "output_type": "stream",
     "text": [
      "Windows\n",
      "AMD64\n",
      "Windows-10-10.0.19045-SP0\n",
      "uname_result(system='Windows', node='C118', release='10', version='10.0.19045', machine='AMD64')\n",
      "10.0.19045\n",
      "('', ('', '', ''), '')\n"
     ]
    }
   ],
   "source": [
    "import geopandas as gpd\n",
    "import pandas as pd\n",
    "import numpy as np\n",
    "from shapely import wkt\n",
    "import math\n",
    "import time\n",
    "import pyproj\n",
    "import random\n",
    "from shapely.geometry import LineString, CAP_STYLE\n",
    "from PIL import Image\n",
    "import PIL.Image\n",
    "import matplotlib.pyplot as plt\n",
    "import mercantile\n",
    "from geotile import GeoTile\n",
    "from gdal2tiles import generate_tiles\n",
    "#from gdal2tiles import gdalinfo\n",
    "from cores import *\n",
    "import os\n",
    "from path import * \n",
    "from osgeo import gdal, osr, ogr  # necessario intalar a whell manualmente https://www.lfd.uci.edu/~gohlke/pythonlibs/\n",
    "import platform\n",
    "print(platform.system(),)\n",
    "print(platform.machine(),)\n",
    "print(platform.platform(),)\n",
    "print(platform.uname(),)\n",
    "print(platform.version(),)\n",
    "print(platform.mac_ver(),)\n",
    "#import rasterio\n",
    "#from rasterio import features"
   ]
  },
  {
   "cell_type": "code",
   "execution_count": 2,
   "metadata": {},
   "outputs": [
    {
     "name": "stdout",
     "output_type": "stream",
     "text": [
      "Tiles - processar polígonos de velocidade\n"
     ]
    }
   ],
   "source": [
    "file = 'gpd.csv'\n",
    "\n",
    "MERCATOR = pyproj.CRS('epsg:3857')\n",
    "WGS84 = pyproj.CRS('epsg:4326')\n",
    "SAD1969  = pyproj.CRS('esri:102033')\n",
    "\n",
    "df = pd.read_csv(file)\n",
    "\n",
    "df = df.loc[(df.cor != 'humidity_rastro') & (df.cor != 'produzindo_rastro')]\n",
    "df = df.drop(['Unnamed: 0'], axis = 1)\n",
    "df.cor = df.cor.str.capitalize()\n",
    "\n",
    "df['geometry'] = df['geometry'].apply(wkt.loads)\n",
    "gdf = gpd.GeoDataFrame(df, crs=WGS84)\n",
    "\n",
    "application_color_list = ['App_L3', 'App_L2', 'App_L1', 'App_0', 'App_H1', 'App_H2', 'App_H3']\n",
    "camada_objeto = 'App_rastro'\n",
    "if len(gdf[gdf['cor'] == camada_objeto]['value'].dropna().unique()) > 1:\n",
    "    print(\"Tiles - processar polígonos de velocidade\")\n",
    "    inicial = gdf[gdf['cor'] == camada_objeto]['value'].dropna().quantile(0.1)\n",
    "    final = gdf[gdf['cor'] == camada_objeto]['value'].dropna().quantile(0.9)\n",
    "    topo = gdf[gdf['cor'] == camada_objeto]['value'].dropna().quantile(1)\n",
    "    n_intervalos = 7\n",
    "    passo = (final - inicial) / (n_intervalos - 2)\n",
    "    atual = inicial\n",
    "    intervalos = []\n",
    "    intervalos.append([0, inicial])\n",
    "    for i in list(range(2, n_intervalos)):\n",
    "        intervalos.append([atual, atual + passo])\n",
    "        atual = atual + passo\n",
    "    intervalos.append([final, topo + 1])\n",
    "    pos_int = 0\n",
    "    for intervalo in intervalos:\n",
    "        gdf.loc[(gdf['cor'] == camada_objeto) & (gdf['value'] >= intervalo[0]) & (gdf['value'] < intervalo[1]), 'cor'] = application_color_list[pos_int]\n",
    "        pos_int = pos_int + 1\n",
    "gdf = gdf.reset_index(drop=True)\n",
    "\n",
    "\n",
    "gdf = gdf.to_crs(MERCATOR)\n",
    "mask =[]\n",
    "for i in gdf.geometry: \n",
    "    mask.append(type(i)==type(gdf.geometry.loc[0]))\n",
    "gdf.geometry.loc[mask] = gdf.geometry.loc[mask].buffer(1,  cap_style=CAP_STYLE.square)\n",
    "\n",
    "source = ogr.Open(gdf.to_crs(WGS84).to_json())\n",
    "\n",
    "#gdf\n"
   ]
  },
  {
   "cell_type": "code",
   "execution_count": 3,
   "metadata": {},
   "outputs": [],
   "source": [
    "source_ds = ogr.GetDriverByName(\"Memory\").CopyDataSource(source, \"\")\n",
    "source_layer = source_ds.GetLayer(0)\n",
    "source_srs = source_layer.GetSpatialRef()\n",
    "x_min, x_max, y_min, y_max = source_layer.GetExtent()\n",
    "numFeatures = source_layer.GetFeatureCount()\n",
    "\n",
    "\n",
    "\n",
    "source_layer.CreateField(ogr.FieldDefn('Red', ogr.OFTReal))\n",
    "source_layer.CreateField(ogr.FieldDefn('Green', ogr.OFTReal))\n",
    "source_layer.CreateField(ogr.FieldDefn('Blue', ogr.OFTReal))\n",
    "\n",
    "\n",
    "source_layer_def = source_layer.GetLayerDefn()\n",
    "fd_id = source_layer_def.GetFieldIndex('cor')\n",
    "r_id = source_layer_def.GetFieldIndex('Red')\n",
    "g_id = source_layer_def.GetFieldIndex('Green')\n",
    "b_id = source_layer_def.GetFieldIndex('Blue')\n",
    "\n",
    "\n",
    "ldefn = source_layer.GetLayerDefn()\n",
    "ldefn.GetFieldCount()\n",
    "lsAtribNames = [field.name for field in source_layer.schema]"
   ]
  },
  {
   "cell_type": "code",
   "execution_count": 4,
   "metadata": {},
   "outputs": [],
   "source": [
    "for feature in source_layer:\n",
    "    feature.SetField(r_id,globals()[feature.GetField(fd_id)][0])\n",
    "    source_layer.SetFeature(feature)\n",
    "for feature in source_layer:\n",
    "    feature.SetField(g_id,globals()[feature.GetField(fd_id)][1])\n",
    "    source_layer.SetFeature(feature)\n",
    "for feature in source_layer:\n",
    "    feature.SetField(b_id,globals()[feature.GetField(fd_id)][2])\n",
    "    source_layer.SetFeature(feature)"
   ]
  },
  {
   "cell_type": "code",
   "execution_count": 5,
   "metadata": {},
   "outputs": [
    {
     "data": {
      "text/plain": [
       "(3317, 15363)"
      ]
     },
     "execution_count": 5,
     "metadata": {},
     "output_type": "execute_result"
    }
   ],
   "source": [
    "pix_size = 0.0000002\n",
    "x_res = int((x_max - x_min) / pix_size)\n",
    "y_res = int((y_max - y_min) / pix_size)\n",
    "x_res, y_res"
   ]
  },
  {
   "cell_type": "code",
   "execution_count": 7,
   "metadata": {},
   "outputs": [],
   "source": [
    "target_ds = err = source_layer = None"
   ]
  },
  {
   "cell_type": "code",
   "execution_count": 6,
   "metadata": {},
   "outputs": [
    {
     "ename": "RuntimeError",
     "evalue": "Unable to open rasterize.tif to obtain file list.",
     "output_type": "error",
     "traceback": [
      "\u001b[1;31m---------------------------------------------------------------------------\u001b[0m",
      "\u001b[1;31mRuntimeError\u001b[0m                              Traceback (most recent call last)",
      "Cell \u001b[1;32mIn[6], line 2\u001b[0m\n\u001b[0;32m      1\u001b[0m \u001b[39m#target_ds = gdal.GetDriverByName('MEM').Create('', x_res, y_res, 4, gdal.GDT_Byte)\u001b[39;00m\n\u001b[1;32m----> 2\u001b[0m target_ds \u001b[39m=\u001b[39m gdal\u001b[39m.\u001b[39;49mGetDriverByName(\u001b[39m'\u001b[39;49m\u001b[39mGTiff\u001b[39;49m\u001b[39m'\u001b[39;49m)\u001b[39m.\u001b[39;49mCreate(\u001b[39m'\u001b[39;49m\u001b[39mrasterize.tif\u001b[39;49m\u001b[39m'\u001b[39;49m, x_res, y_res, \u001b[39m4\u001b[39;49m, gdal\u001b[39m.\u001b[39;49mGDT_Byte)\n\u001b[0;32m      3\u001b[0m target_ds\u001b[39m.\u001b[39mSetGeoTransform((x_min, pix_size, \u001b[39m0\u001b[39m, y_max, \u001b[39m0\u001b[39m, \u001b[39m-\u001b[39mpix_size))\n\u001b[0;32m      5\u001b[0m proj \u001b[39m=\u001b[39m \u001b[39m'\u001b[39m\u001b[39mPROJCS[\u001b[39m\u001b[39m\"\u001b[39m\u001b[39munnamed\u001b[39m\u001b[39m\"\u001b[39m\u001b[39m,GEOGCS[\u001b[39m\u001b[39m\"\u001b[39m\u001b[39mWGS 84\u001b[39m\u001b[39m\"\u001b[39m\u001b[39m,DATUM[\u001b[39m\u001b[39m\"\u001b[39m\u001b[39mWGS_1984\u001b[39m\u001b[39m\"\u001b[39m\u001b[39m,SPHEROID[\u001b[39m\u001b[39m\"\u001b[39m\u001b[39mWGS 84\u001b[39m\u001b[39m\"\u001b[39m\u001b[39m,6378137,298.257223563,AUTHORITY[\u001b[39m\u001b[39m\"\u001b[39m\u001b[39mEPSG\u001b[39m\u001b[39m\"\u001b[39m\u001b[39m,\u001b[39m\u001b[39m\"\u001b[39m\u001b[39m7030\u001b[39m\u001b[39m\"\u001b[39m\u001b[39m]],AUTHORITY[\u001b[39m\u001b[39m\"\u001b[39m\u001b[39mEPSG\u001b[39m\u001b[39m\"\u001b[39m\u001b[39m,\u001b[39m\u001b[39m\"\u001b[39m\u001b[39m6326\u001b[39m\u001b[39m\"\u001b[39m\u001b[39m]],PRIMEM[\u001b[39m\u001b[39m\"\u001b[39m\u001b[39mGreenwich\u001b[39m\u001b[39m\"\u001b[39m\u001b[39m,0],UNIT[\u001b[39m\u001b[39m\"\u001b[39m\u001b[39mDegree\u001b[39m\u001b[39m\"\u001b[39m\u001b[39m,0.0174532925199433]],PROJECTION[\u001b[39m\u001b[39m\"\u001b[39m\u001b[39mEPSG:4326\u001b[39m\u001b[39m\"\u001b[39m\u001b[39m],UNIT[\u001b[39m\u001b[39m\"\u001b[39m\u001b[39mmetre\u001b[39m\u001b[39m\"\u001b[39m\u001b[39m,1,AUTHORITY[\u001b[39m\u001b[39m\"\u001b[39m\u001b[39mEPSG\u001b[39m\u001b[39m\"\u001b[39m\u001b[39m,\u001b[39m\u001b[39m\"\u001b[39m\u001b[39m9001\u001b[39m\u001b[39m\"\u001b[39m\u001b[39m]],AXIS[\u001b[39m\u001b[39m\"\u001b[39m\u001b[39mEasting\u001b[39m\u001b[39m\"\u001b[39m\u001b[39m,EAST],AXIS[\u001b[39m\u001b[39m\"\u001b[39m\u001b[39mNorthing\u001b[39m\u001b[39m\"\u001b[39m\u001b[39m,NORTH],AUTHORITY[\u001b[39m\u001b[39m\"\u001b[39m\u001b[39mEPSG\u001b[39m\u001b[39m\"\u001b[39m\u001b[39m,\u001b[39m\u001b[39m\"\u001b[39m\u001b[39m4326\u001b[39m\u001b[39m\"\u001b[39m\u001b[39m]]\u001b[39m\u001b[39m'\u001b[39m\n",
      "File \u001b[1;32mc:\\Users\\leonardo.santos\\Documents\\raster\\venv\\Lib\\site-packages\\osgeo\\gdal.py:1912\u001b[0m, in \u001b[0;36mDriver.Create\u001b[1;34m(self, *args, **kwargs)\u001b[0m\n\u001b[0;32m   1910\u001b[0m \u001b[39mdef\u001b[39;00m \u001b[39mCreate\u001b[39m(\u001b[39mself\u001b[39m, \u001b[39m*\u001b[39margs, \u001b[39m*\u001b[39m\u001b[39m*\u001b[39mkwargs):\n\u001b[0;32m   1911\u001b[0m \u001b[39m    \u001b[39m\u001b[39mr\u001b[39m\u001b[39m\"\"\"Create(Driver self, char const * utf8_path, int xsize, int ysize, int bands=1, GDALDataType eType=GDT_Byte, char ** options=None) -> Dataset\"\"\"\u001b[39;00m\n\u001b[1;32m-> 1912\u001b[0m     \u001b[39mreturn\u001b[39;00m _gdal\u001b[39m.\u001b[39;49mDriver_Create(\u001b[39mself\u001b[39;49m, \u001b[39m*\u001b[39;49margs, \u001b[39m*\u001b[39;49m\u001b[39m*\u001b[39;49mkwargs)\n",
      "\u001b[1;31mRuntimeError\u001b[0m: Unable to open rasterize.tif to obtain file list."
     ]
    }
   ],
   "source": [
    "#target_ds = gdal.GetDriverByName('MEM').Create('', x_res, y_res, 4, gdal.GDT_Byte)\n",
    "target_ds = gdal.GetDriverByName('GTiff').Create('rasterize.tif', x_res, y_res, 4, gdal.GDT_Byte)\n",
    "target_ds.SetGeoTransform((x_min, pix_size, 0, y_max, 0, -pix_size))\n",
    "\n",
    "proj = 'PROJCS[\"unnamed\",GEOGCS[\"WGS 84\",DATUM[\"WGS_1984\",SPHEROID[\"WGS 84\",6378137,298.257223563,AUTHORITY[\"EPSG\",\"7030\"]],AUTHORITY[\"EPSG\",\"6326\"]],PRIMEM[\"Greenwich\",0],UNIT[\"Degree\",0.0174532925199433]],PROJECTION[\"EPSG:4326\"],UNIT[\"metre\",1,AUTHORITY[\"EPSG\",\"9001\"]],AXIS[\"Easting\",EAST],AXIS[\"Northing\",NORTH],AUTHORITY[\"EPSG\",\"4326\"]]'\n",
    "\n",
    "if source_srs:\n",
    "    target_ds.SetProjection(source_srs.ExportToWkt())\n",
    "else:\n",
    "    target_ds.SetProjection(proj)\n",
    "\n",
    "#err = gdal.RasterizeLayer(target_ds, [1,2,3], source_layer, burn_values=(0xff, 0xff, 0xff))\n",
    "\n",
    "err = gdal.RasterizeLayer(target_ds, [1], source_layer, options=[\"ATTRIBUTE=%s\" % 'Red'])\n",
    "err = gdal.RasterizeLayer(target_ds, [2], source_layer, options=[\"ATTRIBUTE=%s\" % 'Green'])\n",
    "err = gdal.RasterizeLayer(target_ds, [3], source_layer, options=[\"ATTRIBUTE=%s\" % 'Blue'])\n",
    "err = gdal.RasterizeLayer(target_ds, [4], source_layer, burn_values=[0xff])\n",
    "\n",
    "pngdriver = gdal.GetDriverByName('PNG')\n",
    "pngdriver.CreateCopy('rasterize.png', target_ds)\n",
    "\n",
    "target_ds = err = source_layer = None\n"
   ]
  },
  {
   "cell_type": "code",
   "execution_count": null,
   "metadata": {},
   "outputs": [],
   "source": [
    "img = Image.fromarray(target_ds.ReadAsArray().transpose(), mode=\"RGBA\").rotate(90, expand=True).transpose(PIL.Image.FLIP_TOP_BOTTOM)"
   ]
  },
  {
   "cell_type": "code",
   "execution_count": null,
   "metadata": {},
   "outputs": [
    {
     "ename": "RuntimeError",
     "evalue": "`rasterize.tif' not recognized as a supported file format.",
     "output_type": "error",
     "traceback": [
      "\u001b[1;31m---------------------------------------------------------------------------\u001b[0m",
      "\u001b[1;31mRuntimeError\u001b[0m                              Traceback (most recent call last)",
      "Cell \u001b[1;32mIn[30], line 2\u001b[0m\n\u001b[0;32m      1\u001b[0m options \u001b[39m=\u001b[39m {\u001b[39m'\u001b[39m\u001b[39mzoom\u001b[39m\u001b[39m'\u001b[39m: (\u001b[39m7\u001b[39m, \u001b[39m19\u001b[39m), \u001b[39m'\u001b[39m\u001b[39mresume\u001b[39m\u001b[39m'\u001b[39m: \u001b[39mTrue\u001b[39;00m, \u001b[39m'\u001b[39m\u001b[39mtmscompatible\u001b[39m\u001b[39m'\u001b[39m: \u001b[39mTrue\u001b[39;00m}\n\u001b[1;32m----> 2\u001b[0m generate_tiles(\u001b[39m'\u001b[39;49m\u001b[39mrasterize.tif\u001b[39;49m\u001b[39m'\u001b[39;49m, \u001b[39m'\u001b[39;49m\u001b[39moutput_dir\u001b[39;49m\u001b[39m'\u001b[39;49m, \u001b[39m*\u001b[39;49m\u001b[39m*\u001b[39;49moptions)\n",
      "File \u001b[1;32mc:\\Users\\leonardo.santos\\Documents\\raster\\venv\\Lib\\site-packages\\gdal2tiles\\gdal2tiles.py:2943\u001b[0m, in \u001b[0;36mgenerate_tiles\u001b[1;34m(input_file, output_folder, **options)\u001b[0m\n\u001b[0;32m   2940\u001b[0m     nb_processes \u001b[39m=\u001b[39m \u001b[39m1\u001b[39m\n\u001b[0;32m   2942\u001b[0m \u001b[39mif\u001b[39;00m nb_processes \u001b[39m==\u001b[39m \u001b[39m1\u001b[39m:\n\u001b[1;32m-> 2943\u001b[0m     single_threaded_tiling(input_file, output_folder, \u001b[39m*\u001b[39;49m\u001b[39m*\u001b[39;49moptions)\n\u001b[0;32m   2944\u001b[0m \u001b[39melse\u001b[39;00m:\n\u001b[0;32m   2945\u001b[0m     multi_threaded_tiling(input_file, output_folder, \u001b[39m*\u001b[39m\u001b[39m*\u001b[39moptions)\n",
      "File \u001b[1;32mc:\\Users\\leonardo.santos\\Documents\\raster\\venv\\Lib\\site-packages\\gdal2tiles\\gdal2tiles.py:2819\u001b[0m, in \u001b[0;36msingle_threaded_tiling\u001b[1;34m(input_file, output_folder, **options)\u001b[0m\n\u001b[0;32m   2817\u001b[0m \u001b[39mif\u001b[39;00m options\u001b[39m.\u001b[39mverbose:\n\u001b[0;32m   2818\u001b[0m     \u001b[39mprint\u001b[39m(\u001b[39m\"\u001b[39m\u001b[39mBegin tiles details calc\u001b[39m\u001b[39m\"\u001b[39m)\n\u001b[1;32m-> 2819\u001b[0m conf, tile_details \u001b[39m=\u001b[39m worker_tile_details(input_file, output_folder, options)\n\u001b[0;32m   2821\u001b[0m \u001b[39mif\u001b[39;00m options\u001b[39m.\u001b[39mverbose:\n\u001b[0;32m   2822\u001b[0m     \u001b[39mprint\u001b[39m(\u001b[39m\"\u001b[39m\u001b[39mTiles details calc complete.\u001b[39m\u001b[39m\"\u001b[39m)\n",
      "File \u001b[1;32mc:\\Users\\leonardo.santos\\Documents\\raster\\venv\\Lib\\site-packages\\gdal2tiles\\gdal2tiles.py:2724\u001b[0m, in \u001b[0;36mworker_tile_details\u001b[1;34m(input_file, output_folder, options, send_pipe)\u001b[0m\n\u001b[0;32m   2722\u001b[0m \u001b[39mdef\u001b[39;00m \u001b[39mworker_tile_details\u001b[39m(input_file, output_folder, options, send_pipe\u001b[39m=\u001b[39m\u001b[39mNone\u001b[39;00m):\n\u001b[0;32m   2723\u001b[0m     gdal2tiles \u001b[39m=\u001b[39m GDAL2Tiles(input_file, output_folder, options)\n\u001b[1;32m-> 2724\u001b[0m     gdal2tiles\u001b[39m.\u001b[39;49mopen_input()\n\u001b[0;32m   2725\u001b[0m     gdal2tiles\u001b[39m.\u001b[39mgenerate_metadata()\n\u001b[0;32m   2726\u001b[0m     tile_job_info, tile_details \u001b[39m=\u001b[39m gdal2tiles\u001b[39m.\u001b[39mgenerate_base_tiles()\n",
      "File \u001b[1;32mc:\\Users\\leonardo.santos\\Documents\\raster\\venv\\Lib\\site-packages\\gdal2tiles\\gdal2tiles.py:1408\u001b[0m, in \u001b[0;36mGDAL2Tiles.open_input\u001b[1;34m(self)\u001b[0m\n\u001b[0;32m   1405\u001b[0m \u001b[39m# Open the input file\u001b[39;00m\n\u001b[0;32m   1407\u001b[0m \u001b[39mif\u001b[39;00m \u001b[39mself\u001b[39m\u001b[39m.\u001b[39minput_file:\n\u001b[1;32m-> 1408\u001b[0m     input_dataset \u001b[39m=\u001b[39m gdal\u001b[39m.\u001b[39;49mOpen(\u001b[39mself\u001b[39;49m\u001b[39m.\u001b[39;49minput_file, gdal\u001b[39m.\u001b[39;49mGA_ReadOnly)\n\u001b[0;32m   1409\u001b[0m \u001b[39melse\u001b[39;00m:\n\u001b[0;32m   1410\u001b[0m     \u001b[39mraise\u001b[39;00m \u001b[39mException\u001b[39;00m(\u001b[39m\"\u001b[39m\u001b[39mNo input file was specified\u001b[39m\u001b[39m\"\u001b[39m)\n",
      "File \u001b[1;32mc:\\Users\\leonardo.santos\\Documents\\raster\\venv\\Lib\\site-packages\\osgeo\\gdal.py:4116\u001b[0m, in \u001b[0;36mOpen\u001b[1;34m(*args)\u001b[0m\n\u001b[0;32m   4114\u001b[0m \u001b[39mdef\u001b[39;00m \u001b[39mOpen\u001b[39m(\u001b[39m*\u001b[39margs):\n\u001b[0;32m   4115\u001b[0m \u001b[39m    \u001b[39m\u001b[39mr\u001b[39m\u001b[39m\"\"\"Open(char const * utf8_path, GDALAccess eAccess=GA_ReadOnly) -> Dataset\"\"\"\u001b[39;00m\n\u001b[1;32m-> 4116\u001b[0m     \u001b[39mreturn\u001b[39;00m _gdal\u001b[39m.\u001b[39;49mOpen(\u001b[39m*\u001b[39;49margs)\n",
      "\u001b[1;31mRuntimeError\u001b[0m: `rasterize.tif' not recognized as a supported file format."
     ]
    }
   ],
   "source": [
    "options = {'zoom': (7, 19), 'resume': True, 'tmscompatible': True}\n",
    "generate_tiles('rasterize.tif', 'output_dir', **options)"
   ]
  }
 ],
 "metadata": {
  "kernelspec": {
   "display_name": "venv",
   "language": "python",
   "name": "python3"
  },
  "language_info": {
   "codemirror_mode": {
    "name": "ipython",
    "version": 3
   },
   "file_extension": ".py",
   "mimetype": "text/x-python",
   "name": "python",
   "nbconvert_exporter": "python",
   "pygments_lexer": "ipython3",
   "version": "3.11.0 (main, Oct 24 2022, 18:26:48) [MSC v.1933 64 bit (AMD64)]"
  },
  "orig_nbformat": 4,
  "vscode": {
   "interpreter": {
    "hash": "c2c9a861cd1c0282344f30823fc9bfd19935d03c91e7ddc0508d88bf0b8c9d36"
   }
  }
 },
 "nbformat": 4,
 "nbformat_minor": 2
}
