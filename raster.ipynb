{
 "cells": [
  {
   "cell_type": "code",
   "execution_count": 40,
   "metadata": {},
   "outputs": [],
   "source": [
    "import geopandas as gpd\n",
    "import pandas as pd\n",
    "from shapely import wkt\n",
    "from osgeo import gdal, osr, ogr  # necessario intalar a whell manualmente https://www.lfd.uci.edu/~gohlke/pythonlibs/\n",
    "import math\n",
    "import time\n",
    "#import rasterio\n",
    "#from rasterio import features"
   ]
  },
  {
   "cell_type": "code",
   "execution_count": 36,
   "metadata": {},
   "outputs": [],
   "source": [
    "file = 'gpd.csv'\n",
    "\n",
    " \n",
    "\n",
    "df = pd.read_csv(file)\n",
    "\n",
    " \n",
    "\n",
    "df['geometry'] = df['geometry'].apply(wkt.loads)\n",
    "gdf = gpd.GeoDataFrame(df, crs='epsg:4326')\n",
    "\n",
    "wkt_geom = [i.wkt for i in gdf.geometry]\n",
    "#gdf.explore()"
   ]
  },
  {
   "cell_type": "code",
   "execution_count": 29,
   "metadata": {},
   "outputs": [
    {
     "name": "stdout",
     "output_type": "stream",
     "text": [
      "success\n"
     ]
    }
   ],
   "source": [
    "\n",
    "#Setup working spatial reference\n",
    "sr_wkt = 'LOCAL_CS[\"arbitrary\"]'\n",
    "sr = osr.SpatialReference( sr_wkt )\n",
    "\n",
    "pix_size = 0.0000001\n",
    "\n",
    "x_0 = -89.7797378\n",
    "y_0 =  40.0303053\n",
    "# Create a memory raster to rasterize into.\n",
    "\n",
    "target_ds = gdal.GetDriverByName('MEM').Create( '',10000, 33000, 3,gdal.GDT_Byte)\n",
    "target_ds.SetGeoTransform((x_0, pix_size, 0, y_0, 0, -pix_size))\n",
    "target_ds.SetProjection(sr_wkt)\n",
    " \n",
    "\n",
    "# Create a memory layer to rasterize from.\n",
    "\n",
    "rast_ogr_ds = ogr.GetDriverByName('Memory').CreateDataSource( 'wrk' )\n",
    "rast_mem_lyr = rast_ogr_ds.CreateLayer('poly', srs=sr )\n",
    "\n",
    " \n",
    "\n",
    "for g in wkt_geom:\n",
    "    feat = ogr.Feature( rast_mem_lyr.GetLayerDefn() )\n",
    "    feat.SetGeometryDirectly( ogr.Geometry(wkt = g) )\n",
    "    rast_mem_lyr.CreateFeature( feat )\n",
    "\n",
    " \n",
    "\n",
    "# Run the algorithm.\n",
    "\n",
    " \n",
    "\n",
    "gdal.RasterizeLayer(target_ds, [3,2,1], rast_mem_lyr, burn_values = [4095,4095,4095], options = [\"BURN_VALUE_FROM=Z\"])\n",
    "gdal.GetDriverByName('GTiff').CreateCopy('rasterize.tif',target_ds)\n",
    "\n",
    " \n",
    "\n",
    "\n",
    "print('success')"
   ]
  },
  {
   "cell_type": "code",
   "execution_count": 37,
   "metadata": {},
   "outputs": [
    {
     "data": {
      "text/plain": [
       "<osgeo.ogr.DataSource; proxy of <Swig Object of type 'OGRDataSourceShadow *' at 0x0000019CAD82F390> >"
      ]
     },
     "execution_count": 37,
     "metadata": {},
     "output_type": "execute_result"
    }
   ],
   "source": [
    "rast_ogr_ds"
   ]
  },
  {
   "cell_type": "code",
   "execution_count": 41,
   "metadata": {},
   "outputs": [
    {
     "name": "stdout",
     "output_type": "stream",
     "text": [
      "0.31 segundos\n"
     ]
    }
   ],
   "source": [
    "wkt_geom = []\n",
    "for i in gdf.geometry:\n",
    "    wkt_geom.append(i.wkt)\n",
    "\n",
    " \n",
    "\n",
    "x_size = gdf.total_bounds[2]-gdf.total_bounds[0]\n",
    "y_size = gdf.total_bounds[3]-gdf.total_bounds[1]\n",
    "x_0 = gdf.total_bounds[0]\n",
    "y_0 = gdf.total_bounds[3]\n",
    "\n",
    " \n",
    "\n",
    "pix_size = 0.000001\n",
    "pixels_in_x = math.ceil(x_size/pix_size)\n",
    "pixels_in_y = math.ceil(y_size/pix_size)\n",
    "\n",
    " \n",
    "\n",
    "t1 = time.time()\n",
    "\n",
    " \n",
    "\n",
    "# Setup working spatial reference\n",
    "sr_wkt = 'LOCAL_CS[\"arbitrary\"]'\n",
    "sr = osr.SpatialReference(sr_wkt)\n",
    "\n",
    " \n",
    "\n",
    "\n",
    "sr = osr.SpatialReference()\n",
    "sr.ImportFromEPSG(4326)\n",
    "sr.SetProjection (\"EPSG:4326\")\n",
    "sr_wkt = sr.ExportToWkt()\n",
    "#print (sr_wkt)\n",
    "\n",
    " \n",
    "\n",
    "# Create a memory raster to rasterize into.\n",
    "\n",
    " \n",
    "\n",
    "target_ds = gdal.GetDriverByName('MEM').Create('', pixels_in_x, pixels_in_y, 3, gdal.GDT_Byte)\n",
    "target_ds.SetGeoTransform((x_0, pix_size, 0, y_0, 0, -pix_size))\n",
    "target_ds.SetProjection(sr_wkt)\n",
    "\n",
    " \n",
    "\n",
    "# Create a memory layer to rasterize from.\n",
    "\n",
    " \n",
    "\n",
    "rast_ogr_ds  = ogr.GetDriverByName('Memory').CreateDataSource( 'wrk' )\n",
    "rast_mem_lyr = rast_ogr_ds.CreateLayer('poly', srs=sr)\n",
    "\n",
    " \n",
    "\n",
    "# Add polygons and linestrings.\n",
    "wkt_geom = wkt_geom\n",
    "#wkt_geom = ['POLYGON((0 0 0,0 10 0,10 10 0,10 0 0,0 0 0))']\n",
    "\n",
    " \n",
    "\n",
    "for g in wkt_geom:\n",
    "    feat = ogr.Feature(rast_mem_lyr.GetLayerDefn())\n",
    "    feat.SetGeometryDirectly(ogr.Geometry(wkt = g))\n",
    "    rast_mem_lyr.CreateFeature(feat)\n",
    "\n",
    " \n",
    "\n",
    "gdal.RasterizeLayer(target_ds, [1,2,3], rast_mem_lyr, burn_values = [0,255,0])\n",
    "#gdal.GetDriverByName('PNG').CreateCopy('rasterize.png',target_ds)\n",
    "\n",
    " \n",
    "\n",
    "tiffdriver = gdal.GetDriverByName('GTiff')\n",
    "tiffdriver.CreateCopy('rasterize.tif', target_ds)\n",
    "\n",
    " \n",
    "\n",
    "pngdriver = gdal.GetDriverByName('PNG')\n",
    "pngdriver.CreateCopy('rasterize.png', target_ds)\n",
    "\n",
    " \n",
    "\n",
    "t2 = time.time()\n",
    "print(str(round(t2-t1,2)) + ' segundos')"
   ]
  },
  {
   "cell_type": "code",
   "execution_count": 50,
   "metadata": {},
   "outputs": [
    {
     "data": {
      "text/plain": [
       "'PROJCS[\"unnamed\",GEOGCS[\"WGS 84\",DATUM[\"WGS_1984\",SPHEROID[\"WGS 84\",6378137,298.257223563,AUTHORITY[\"EPSG\",\"7030\"]],AUTHORITY[\"EPSG\",\"6326\"]],PRIMEM[\"Greenwich\",0,AUTHORITY[\"EPSG\",\"8901\"]],UNIT[\"degree\",0.0174532925199433,AUTHORITY[\"EPSG\",\"9122\"]],AUTHORITY[\"EPSG\",\"4326\"]],PROJECTION[\"EPSG:4326\"],UNIT[\"metre\",1,AUTHORITY[\"EPSG\",\"9001\"]],AXIS[\"Easting\",EAST],AXIS[\"Northing\",NORTH]]'"
      ]
     },
     "execution_count": 50,
     "metadata": {},
     "output_type": "execute_result"
    }
   ],
   "source": [
    "sr_wkt"
   ]
  },
  {
   "cell_type": "code",
   "execution_count": 7,
   "metadata": {},
   "outputs": [
    {
     "name": "stdout",
     "output_type": "stream",
     "text": [
      "Windows-10-10.0.19045-SP0\n",
      "uname_result(system='Windows', node='C118', release='10', version='10.0.19045', machine='AMD64')\n",
      "10.0.19045\n",
      "('', ('', '', ''), '')\n"
     ]
    }
   ],
   "source": [
    "import platform\n",
    "#print(platform.system(),)\n",
    "#print(platform.machine(),)\n",
    "print(platform.platform(),)\n",
    "print(platform.uname(),)\n",
    "print(platform.version(),)\n",
    "print(platform.mac_ver(),)"
   ]
  }
 ],
 "metadata": {
  "kernelspec": {
   "display_name": "Python 3",
   "language": "python",
   "name": "python3"
  },
  "language_info": {
   "codemirror_mode": {
    "name": "ipython",
    "version": 3
   },
   "file_extension": ".py",
   "mimetype": "text/x-python",
   "name": "python",
   "nbconvert_exporter": "python",
   "pygments_lexer": "ipython3",
   "version": "3.11.0"
  },
  "orig_nbformat": 4,
  "vscode": {
   "interpreter": {
    "hash": "36e62440cb93b81495312204c784b5b5d15c6b50967c5be1aae88bbecbff278a"
   }
  }
 },
 "nbformat": 4,
 "nbformat_minor": 2
}
